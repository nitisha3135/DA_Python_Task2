{
 "cells": [
  {
   "cell_type": "markdown",
   "id": "4984c307-7d3c-481e-bb1e-46accc3b77b6",
   "metadata": {},
   "source": [
    "1. capitalize() – Capitalizes the first character of the string."
   ]
  },
  {
   "cell_type": "code",
   "execution_count": 12,
   "id": "fb1f89c2-35b7-4ecc-8e64-e42840a773b4",
   "metadata": {},
   "outputs": [
    {
     "name": "stdout",
     "output_type": "stream",
     "text": [
      "Hello world\n",
      "Python programming\n"
     ]
    }
   ],
   "source": [
    "print(\"hello world\".capitalize())  \n",
    "print(\"python PROGRAMMING\".capitalize())  "
   ]
  },
  {
   "cell_type": "markdown",
   "id": "2b916821-23d3-49f0-917b-5947b85b49e0",
   "metadata": {},
   "source": [
    "2. lower() - Converts all characters to lowercase."
   ]
  },
  {
   "cell_type": "code",
   "execution_count": 14,
   "id": "f4488cd6-150d-4816-93f6-315753b1e01c",
   "metadata": {},
   "outputs": [
    {
     "name": "stdout",
     "output_type": "stream",
     "text": [
      "hello world\n",
      "nitisha\n"
     ]
    }
   ],
   "source": [
    "string = \"HELLO WORLD\"\n",
    "print(string.lower())  \n",
    "print(\"NITISHA\".lower())"
   ]
  },
  {
   "cell_type": "markdown",
   "id": "5decbf44-1c9f-4609-bca6-8c3dc89ae7e3",
   "metadata": {},
   "source": [
    "3. upper() - Converts all characters to uppercase."
   ]
  },
  {
   "cell_type": "code",
   "execution_count": 10,
   "id": "995841bc-fbda-411e-842b-ff47dd833dfa",
   "metadata": {},
   "outputs": [
    {
     "name": "stdout",
     "output_type": "stream",
     "text": [
      "HELLO WORLD\n",
      "NITISHA\n"
     ]
    }
   ],
   "source": [
    "string = \"hello world\"\n",
    "print(string.upper())  \n",
    "print(\"nitisha\".upper())"
   ]
  },
  {
   "cell_type": "markdown",
   "id": "fab0a65a-2452-4cad-8380-daf0b920da83",
   "metadata": {},
   "source": [
    "4. title() - Converts the first character of each word to uppercase"
   ]
  },
  {
   "cell_type": "code",
   "execution_count": 22,
   "id": "7c809cd9-dcc6-4d81-9ba5-43694564f89c",
   "metadata": {},
   "outputs": [
    {
     "name": "stdout",
     "output_type": "stream",
     "text": [
      "Hello World\n",
      "Nitisha\n"
     ]
    }
   ],
   "source": [
    "string = \"hellO world\"\n",
    "print(string.title())  \n",
    "print(\"nitisha\".title())"
   ]
  },
  {
   "cell_type": "markdown",
   "id": "6c547c22-3cd4-45bd-a66e-97a80438e8ef",
   "metadata": {},
   "source": [
    "5. strip() - Removes leading and trailing whitespace."
   ]
  },
  {
   "cell_type": "code",
   "execution_count": 27,
   "id": "98db8a9f-1ae3-4655-8f66-d5907d22f40e",
   "metadata": {},
   "outputs": [
    {
     "name": "stdout",
     "output_type": "stream",
     "text": [
      "Hello World\n",
      "Nitisha\n"
     ]
    }
   ],
   "source": [
    "string = \"   Hello World  \"\n",
    "print(string.strip())  \n",
    "print(\"   Nitisha    \".strip())"
   ]
  },
  {
   "cell_type": "markdown",
   "id": "ec6f0c74-bd05-4706-9d35-3efff5cff318",
   "metadata": {},
   "source": [
    "6. lstrip() - Removes leading whitespace."
   ]
  },
  {
   "cell_type": "code",
   "execution_count": 36,
   "id": "2f09e667-7873-4a1a-9a03-ded13c6e3fa6",
   "metadata": {},
   "outputs": [
    {
     "name": "stdout",
     "output_type": "stream",
     "text": [
      "Hello World\n",
      "Nitisha\n"
     ]
    }
   ],
   "source": [
    "string = \"   Hello World\"\n",
    "print(string.lstrip())  \n",
    "print(\"   Nitisha\".lstrip())"
   ]
  },
  {
   "cell_type": "markdown",
   "id": "c5cae3f4-aea0-47ec-972e-e6820049245f",
   "metadata": {},
   "source": [
    "7. rstrip() - Removes trailing whitespace."
   ]
  },
  {
   "cell_type": "code",
   "execution_count": 39,
   "id": "7262f59c-1ed8-404e-aa62-e5ae8fe83a66",
   "metadata": {},
   "outputs": [
    {
     "name": "stdout",
     "output_type": "stream",
     "text": [
      "   Hello World\n",
      "Nitisha\n"
     ]
    }
   ],
   "source": [
    "string = \"   Hello World   \"\n",
    "print(string.rstrip())  \n",
    "print(\"Nitisha    \".rstrip())"
   ]
  },
  {
   "cell_type": "markdown",
   "id": "c7d87b9a-3b52-4148-a1f9-ff66fa7e24de",
   "metadata": {},
   "source": [
    "8. find() - Returns the index of the first occurrence of a substring, or -1 if not found."
   ]
  },
  {
   "cell_type": "code",
   "execution_count": 42,
   "id": "e89c0fd3-72c7-481a-bdbe-4d68656f7c73",
   "metadata": {},
   "outputs": [
    {
     "name": "stdout",
     "output_type": "stream",
     "text": [
      "6\n",
      "4\n"
     ]
    }
   ],
   "source": [
    "string = \"Hello World\"\n",
    "print(string.find(\"World\"))  \n",
    "print(\"Nitisha\".find(\"sha\"))"
   ]
  },
  {
   "cell_type": "markdown",
   "id": "56cb0a27-a3d4-4f93-aafb-99d193361b9f",
   "metadata": {},
   "source": [
    "9. replace() - Replaces occurrences of a substring with another substring."
   ]
  },
  {
   "cell_type": "code",
   "execution_count": 45,
   "id": "a54dc311-2512-4a0b-8a75-c664dee6cd3f",
   "metadata": {},
   "outputs": [
    {
     "name": "stdout",
     "output_type": "stream",
     "text": [
      "Hello Nitisha\n",
      "Nidhi\n"
     ]
    }
   ],
   "source": [
    "string = \"Hello World\"\n",
    "print(string.replace(\"World\",\"Nitisha\"))  \n",
    "print(\"Nitisha\".replace(\"Nitisha\",\"Nidhi\"))"
   ]
  },
  {
   "cell_type": "markdown",
   "id": "2f88c609-b6e2-4e6e-a4b1-8b23317e852e",
   "metadata": {},
   "source": [
    "10. split() - Splits the string into a list, based on a delimiter."
   ]
  },
  {
   "cell_type": "code",
   "execution_count": 53,
   "id": "35186c7c-d571-48ca-ab46-50a689aec361",
   "metadata": {},
   "outputs": [
    {
     "name": "stdout",
     "output_type": "stream",
     "text": [
      "['Hello World']\n",
      "['Nitisha Nidhi Isha']\n"
     ]
    }
   ],
   "source": [
    "string = \"Hello World\"\n",
    "print(string.split(\" , \"))  \n",
    "print(\"Nitisha Nidhi Isha\".split(\" . \"))"
   ]
  },
  {
   "cell_type": "markdown",
   "id": "740b03b6-4c90-44e6-895a-53a1e4b46ff6",
   "metadata": {},
   "source": [
    "11. join() - Joins elements of an iterable with a specified string as the delimiter."
   ]
  },
  {
   "cell_type": "code",
   "execution_count": 62,
   "id": "f5207cf3-d2ed-45b4-8e41-6d09e98a89d0",
   "metadata": {},
   "outputs": [
    {
     "name": "stdout",
     "output_type": "stream",
     "text": [
      "hello world\n",
      "Nitisha Nidhi Isha\n"
     ]
    }
   ],
   "source": [
    "list_of_strings = [\"hello\", \"world\"]\n",
    "print(\" \".join(list_of_strings))  \n",
    "print(\"-\".join([\"Nitisha Nidhi Isha\"]))"
   ]
  },
  {
   "cell_type": "markdown",
   "id": "4cab7941-a27e-41a4-b0fe-ea07c202c80e",
   "metadata": {},
   "source": [
    "12. isdigit() - Returns True if all characters in the string are digits."
   ]
  },
  {
   "cell_type": "code",
   "execution_count": 65,
   "id": "42493584-e93f-4c9a-8df8-81cb3ae5c38a",
   "metadata": {},
   "outputs": [
    {
     "name": "stdout",
     "output_type": "stream",
     "text": [
      "True\n",
      "False\n"
     ]
    }
   ],
   "source": [
    "string = \"12345\"\n",
    "print(string.isdigit())  \n",
    "print(\"123abc\".isdigit())"
   ]
  },
  {
   "cell_type": "markdown",
   "id": "2d09c701-3950-460c-8e80-cf2d694e5be3",
   "metadata": {},
   "source": [
    "13. isnumeric() - Returns True if all characters in the string are numeric."
   ]
  },
  {
   "cell_type": "code",
   "execution_count": 68,
   "id": "833629bc-4133-45fb-a462-b1af5ad2a043",
   "metadata": {},
   "outputs": [
    {
     "name": "stdout",
     "output_type": "stream",
     "text": [
      "True\n",
      "False\n"
     ]
    }
   ],
   "source": [
    "string = \"12345\"\n",
    "print(string.isnumeric()) \n",
    "print(\"123.45\".isnumeric())"
   ]
  },
  {
   "cell_type": "markdown",
   "id": "c4236854-fca7-430e-9e0f-c3fdd115cd81",
   "metadata": {},
   "source": [
    "14. isalpha() - Returns True if all characters are alphabetic."
   ]
  },
  {
   "cell_type": "code",
   "execution_count": 70,
   "id": "eecaec07-9040-42b4-b7ae-51f271d39857",
   "metadata": {},
   "outputs": [
    {
     "name": "stdout",
     "output_type": "stream",
     "text": [
      "True\n",
      "False\n"
     ]
    }
   ],
   "source": [
    "string = \"hello\"\n",
    "print(string.isalpha())  \n",
    "print(\"hello123\".isalpha())"
   ]
  },
  {
   "cell_type": "markdown",
   "id": "b8958283-5dae-4819-b00c-6359ed9bd787",
   "metadata": {},
   "source": [
    "15. isalnum() - Returns True if all characters are alphanumeric."
   ]
  },
  {
   "cell_type": "code",
   "execution_count": 74,
   "id": "d0341050-7779-49ce-a2fd-435910c694bb",
   "metadata": {},
   "outputs": [
    {
     "name": "stdout",
     "output_type": "stream",
     "text": [
      "True\n",
      "False\n"
     ]
    }
   ],
   "source": [
    "string = \"hello123\"\n",
    "print(string.isalnum())  \n",
    "print(\"hello 123\".isalnum())"
   ]
  },
  {
   "cell_type": "markdown",
   "id": "871e9287-fa8c-4bcd-a875-c87d929b2b7c",
   "metadata": {},
   "source": [
    "16. startswith() - Returns True if the string starts with a specified prefix"
   ]
  },
  {
   "cell_type": "code",
   "execution_count": 77,
   "id": "3aa98afe-cbc0-4845-98a9-1610b67c99c8",
   "metadata": {},
   "outputs": [
    {
     "name": "stdout",
     "output_type": "stream",
     "text": [
      "True\n",
      "False\n"
     ]
    }
   ],
   "source": [
    "string = \"hello world\"\n",
    "print(string.startswith(\"hello\")) \n",
    "print(\"python\".startswith(\"yt\"))"
   ]
  },
  {
   "cell_type": "markdown",
   "id": "d05f3a49-bc1b-481b-8ab7-6d2e2eae1b67",
   "metadata": {},
   "source": [
    "17. endswith() - Returns True if the string ends with a specified suffix."
   ]
  },
  {
   "cell_type": "code",
   "execution_count": 80,
   "id": "5de91494-c8b3-4bf1-9a11-bfb394ee7264",
   "metadata": {},
   "outputs": [
    {
     "name": "stdout",
     "output_type": "stream",
     "text": [
      "True\n",
      "False\n"
     ]
    }
   ],
   "source": [
    "string = \"hello world\"\n",
    "print(string.endswith(\"world\")) \n",
    "print(\"python\".endswith(\"tho\"))"
   ]
  },
  {
   "cell_type": "markdown",
   "id": "19a84779-35e9-4b52-96ef-1ce9521a3254",
   "metadata": {},
   "source": [
    "18. count() - Returns the number of occurrences of a substring."
   ]
  },
  {
   "cell_type": "code",
   "execution_count": 83,
   "id": "fa6e7cd1-01cc-4c0c-98b1-39c798fc106b",
   "metadata": {},
   "outputs": [
    {
     "name": "stdout",
     "output_type": "stream",
     "text": [
      "3\n",
      "2\n"
     ]
    }
   ],
   "source": [
    "string = \"banana\"\n",
    "print(string.count(\"a\")) \n",
    "print(\"apple banana apple\".count(\"apple\"))"
   ]
  },
  {
   "cell_type": "markdown",
   "id": "8e87a984-85f5-48d1-881c-d7163eff983a",
   "metadata": {},
   "source": [
    "19. center() - Centers the string within a specified width, padding with spaces or a specified character."
   ]
  },
  {
   "cell_type": "code",
   "execution_count": 86,
   "id": "3d8810ed-4e18-4383-a3a1-3b693090ee15",
   "metadata": {},
   "outputs": [
    {
     "name": "stdout",
     "output_type": "stream",
     "text": [
      "  hello   \n",
      "--hello---\n"
     ]
    }
   ],
   "source": [
    "string = \"hello\"\n",
    "print(string.center(10)) \n",
    "print(string.center(10, \"-\"))"
   ]
  },
  {
   "cell_type": "markdown",
   "id": "3b1517e6-919e-49ef-982b-a31664340478",
   "metadata": {},
   "source": [
    "20. zfill() - Pads the string on the left with zeros until it reaches the specified width"
   ]
  },
  {
   "cell_type": "code",
   "execution_count": 89,
   "id": "475047aa-17ac-4504-9276-c545a090db5a",
   "metadata": {},
   "outputs": [
    {
     "name": "stdout",
     "output_type": "stream",
     "text": [
      "00042\n",
      "000123\n"
     ]
    }
   ],
   "source": [
    "string = \"42\"\n",
    "print(string.zfill(5))  \n",
    "print(\"123\".zfill(6)) "
   ]
  },
  {
   "cell_type": "markdown",
   "id": "5d6ac522-f35c-42f7-b40a-d2bfaaf4b991",
   "metadata": {},
   "source": [
    "21. center(width, [fillchar]) – Centers the string, padding with spaces or a specified character."
   ]
  },
  {
   "cell_type": "code",
   "execution_count": 92,
   "id": "fab767f3-32ec-4d60-a008-2f5b309c740f",
   "metadata": {},
   "outputs": [
    {
     "name": "stdout",
     "output_type": "stream",
     "text": [
      "  hello   \n",
      "***python***\n"
     ]
    }
   ],
   "source": [
    "print(\"hello\".center(10))  \n",
    "print(\"python\".center(12, \"*\"))"
   ]
  },
  {
   "cell_type": "markdown",
   "id": "9ed103b5-e898-4046-9b9b-22a4889cb220",
   "metadata": {},
   "source": [
    "22. encode([encoding], [errors]) – Encodes the string into bytes."
   ]
  },
  {
   "cell_type": "code",
   "execution_count": 95,
   "id": "5bd8cee6-8ef9-424d-96f1-dc59d5c3b2ca",
   "metadata": {},
   "outputs": [
    {
     "name": "stdout",
     "output_type": "stream",
     "text": [
      "b'hello'\n",
      "b'\\xff\\xfeh\\x00e\\x00l\\x00l\\x00o\\x00'\n"
     ]
    }
   ],
   "source": [
    "print(\"hello\".encode()) \n",
    "print(\"hello\".encode(\"utf-16\"))"
   ]
  },
  {
   "cell_type": "markdown",
   "id": "0c25f174-a067-487b-b1c4-105d71d73c30",
   "metadata": {},
   "source": [
    "23. expandtabs(tabsize) – Expands tabs (\\t) to spaces."
   ]
  },
  {
   "cell_type": "code",
   "execution_count": 98,
   "id": "d77a0ffd-2870-4d45-8127-71071352e355",
   "metadata": {},
   "outputs": [
    {
     "name": "stdout",
     "output_type": "stream",
     "text": [
      "hello   world\n",
      "name    age\n"
     ]
    }
   ],
   "source": [
    "print(\"hello\\tworld\".expandtabs(4))  \n",
    "print(\"name\\tage\".expandtabs(8))  "
   ]
  },
  {
   "cell_type": "markdown",
   "id": "ec15ef6d-bd5c-48f1-b64f-fd4f2e81640f",
   "metadata": {},
   "source": [
    "24.  **format(*args, kwargs) – Formats the string using placeholders {}."
   ]
  },
  {
   "cell_type": "code",
   "execution_count": 101,
   "id": "1c4ad145-2a23-42e3-aa94-c87e4d5a4fe9",
   "metadata": {},
   "outputs": [
    {
     "name": "stdout",
     "output_type": "stream",
     "text": [
      "Hello, Alice!\n",
      "Alice is 25 years old.\n"
     ]
    }
   ],
   "source": [
    "print(\"Hello, {}!\".format(\"Alice\")) \n",
    "print(\"{name} is {age} years old.\".format(name=\"Alice\", age=25))"
   ]
  },
  {
   "cell_type": "markdown",
   "id": "49fa523c-36e3-44d4-9127-e2b479ac3039",
   "metadata": {},
   "source": [
    "25. format_map(mapping) – Formats the string using a dictionary mapping."
   ]
  },
  {
   "cell_type": "code",
   "execution_count": 104,
   "id": "3c0d56df-4088-46cd-b77d-8749ee1ac826",
   "metadata": {},
   "outputs": [
    {
     "name": "stdout",
     "output_type": "stream",
     "text": [
      "Alice is 25 years old.\n",
      "Bob likes coding.\n"
     ]
    }
   ],
   "source": [
    "data = {'name': 'Alice', 'age': 25}\n",
    "print(\"{name} is {age} years old.\".format_map(data))  \n",
    "print(\"{name} likes {hobby}.\".format_map({'name': 'Bob', 'hobby': 'coding'})) "
   ]
  },
  {
   "cell_type": "markdown",
   "id": "5027c82c-7ea4-48a4-824c-46a6faca8a59",
   "metadata": {},
   "source": [
    "26. isascii() – Checks if all characters are ASCII."
   ]
  },
  {
   "cell_type": "code",
   "execution_count": 107,
   "id": "943a6897-3337-49e0-b422-3a2e6cfb1d9b",
   "metadata": {},
   "outputs": [
    {
     "name": "stdout",
     "output_type": "stream",
     "text": [
      "True\n",
      "False\n"
     ]
    }
   ],
   "source": [
    "print(\"hello\".isascii())  \n",
    "print(\"你好\".isascii()) "
   ]
  },
  {
   "cell_type": "markdown",
   "id": "daa173e3-75b0-4878-93ae-181d883aa168",
   "metadata": {},
   "source": [
    "27. isdecimal() – Checks if all characters are decimals."
   ]
  },
  {
   "cell_type": "code",
   "execution_count": 110,
   "id": "944ee584-9408-4d01-a19a-a417919a531d",
   "metadata": {},
   "outputs": [
    {
     "name": "stdout",
     "output_type": "stream",
     "text": [
      "True\n",
      "False\n"
     ]
    }
   ],
   "source": [
    "print(\"123\".isdecimal())  \n",
    "print(\"12.3\".isdecimal())"
   ]
  },
  {
   "cell_type": "markdown",
   "id": "9028bb0d-6458-4e46-a9da-455d122e0953",
   "metadata": {},
   "source": [
    "28. isidentifier() – Checks if the string is a valid Python identifier."
   ]
  },
  {
   "cell_type": "code",
   "execution_count": 113,
   "id": "fdb74908-ec54-4cc2-9b1c-f40f0b35f496",
   "metadata": {},
   "outputs": [
    {
     "name": "stdout",
     "output_type": "stream",
     "text": [
      "True\n",
      "False\n"
     ]
    }
   ],
   "source": [
    "print(\"var_name\".isidentifier())  \n",
    "print(\"123name\".isidentifier())"
   ]
  },
  {
   "cell_type": "markdown",
   "id": "7e1dc529-90a7-4944-93c3-b12de772a911",
   "metadata": {},
   "source": [
    "29. islower() – Checks if all characters are lowercase."
   ]
  },
  {
   "cell_type": "code",
   "execution_count": 115,
   "id": "41eac176-f703-4bf6-be08-97f3d7683501",
   "metadata": {},
   "outputs": [
    {
     "name": "stdout",
     "output_type": "stream",
     "text": [
      "True\n",
      "False\n"
     ]
    }
   ],
   "source": [
    "print(\"hello\".islower())  \n",
    "print(\"Hello\".islower())"
   ]
  },
  {
   "cell_type": "markdown",
   "id": "b1bda7f8-2dfb-4b7c-9d56-43d32edcfb2a",
   "metadata": {},
   "source": [
    "30. isupper() – Checks if all characters are uppercase."
   ]
  },
  {
   "cell_type": "code",
   "execution_count": 119,
   "id": "e20b843c-b003-413d-b7c8-f24808e27d23",
   "metadata": {},
   "outputs": [
    {
     "name": "stdout",
     "output_type": "stream",
     "text": [
      "False\n",
      "True\n"
     ]
    }
   ],
   "source": [
    "print(\"hello\".isupper())  \n",
    "print(\"HELLO\".isupper())"
   ]
  },
  {
   "cell_type": "markdown",
   "id": "1e9f3faa-ae5d-4fa4-b5ca-7d7c496d0a5a",
   "metadata": {},
   "source": [
    "31. isprintable() – Checks if all characters are printable."
   ]
  },
  {
   "cell_type": "code",
   "execution_count": 122,
   "id": "8504a558-ed93-424b-b20a-fd09afccd3f8",
   "metadata": {},
   "outputs": [
    {
     "name": "stdout",
     "output_type": "stream",
     "text": [
      "True\n",
      "False\n"
     ]
    }
   ],
   "source": [
    "print(\"hello\".isprintable()) \n",
    "print(\"hello\\nworld\".isprintable()) "
   ]
  },
  {
   "cell_type": "markdown",
   "id": "0c17752b-3ee7-4c1f-b821-f0f948804404",
   "metadata": {},
   "source": [
    "32. isspace() – Checks if all characters are whitespace."
   ]
  },
  {
   "cell_type": "code",
   "execution_count": 125,
   "id": "3dc3c18f-5bd1-4168-9772-a2a8a3d7810b",
   "metadata": {},
   "outputs": [
    {
     "name": "stdout",
     "output_type": "stream",
     "text": [
      "True\n",
      "False\n"
     ]
    }
   ],
   "source": [
    "print(\"   \".isspace())  \n",
    "print(\"hello\".isspace())"
   ]
  },
  {
   "cell_type": "markdown",
   "id": "d9b3197a-660c-4dcc-aa4a-43493ff01bd7",
   "metadata": {},
   "source": [
    "33. istitle() – Checks if the string is title-cased."
   ]
  },
  {
   "cell_type": "code",
   "execution_count": 128,
   "id": "f56747d6-2b16-45b0-8b05-3a6401f4b11b",
   "metadata": {},
   "outputs": [
    {
     "name": "stdout",
     "output_type": "stream",
     "text": [
      "True\n",
      "False\n"
     ]
    }
   ],
   "source": [
    "print(\"Hello World\".istitle()) \n",
    "print(\"hello World\".istitle())"
   ]
  }
 ],
 "metadata": {
  "kernelspec": {
   "display_name": "Python 3 (ipykernel)",
   "language": "python",
   "name": "python3"
  },
  "language_info": {
   "codemirror_mode": {
    "name": "ipython",
    "version": 3
   },
   "file_extension": ".py",
   "mimetype": "text/x-python",
   "name": "python",
   "nbconvert_exporter": "python",
   "pygments_lexer": "ipython3",
   "version": "3.12.4"
  }
 },
 "nbformat": 4,
 "nbformat_minor": 5
}
